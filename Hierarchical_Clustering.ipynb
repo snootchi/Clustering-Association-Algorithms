{
  "nbformat": 4,
  "nbformat_minor": 0,
  "metadata": {
    "colab": {
      "name": "Hierarchical Clustering.ipynb",
      "provenance": [],
      "collapsed_sections": []
    },
    "kernelspec": {
      "name": "python3",
      "display_name": "Python 3"
    },
    "language_info": {
      "name": "python"
    }
  },
  "cells": [
    {
      "cell_type": "markdown",
      "source": [
        "#***Hierarchical Clustering***\n",
        "\n",
        "\n",
        "\n"
      ],
      "metadata": {
        "id": "t0FQ0mhocMo7"
      }
    },
    {
      "cell_type": "code",
      "execution_count": 1,
      "metadata": {
        "id": "ZI_6_qjOaiF3"
      },
      "outputs": [],
      "source": [
        "import pandas as pd\n",
        "import numpy as np \n",
        "import scipy \n",
        "from scipy.cluster.hierarchy import dendrogram , linkage\n",
        "from scipy.cluster.hierarchy import fcluster\n",
        "#Distance Tools\n",
        "from scipy.cluster.hierarchy import cophenet\n",
        "from scipy.spatial.distance import pdist\n",
        "\n",
        "import matplotlib.pyplot as plt\n",
        "%matplotlib inline \n",
        "from pylab import rcParams\n",
        "import seaborn as sb\n",
        "\n",
        "import sklearn\n",
        "from sklearn.cluster import AgglomerativeClustering\n",
        "#that's the same thing as Hierarchical Clustering\n",
        "import sklearn.metrics as sn \n",
        "#to evaluate our model"
      ]
    },
    {
      "cell_type": "markdown",
      "source": [
        "###***Setting our print Options***\n",
        "Number rotation after the coma , eg: 1.25488644 = (np.set_printoptions(precison=4) ===> 1.2549 .\\\n",
        "Set our Plot Parameters"
      ],
      "metadata": {
        "id": "6O6V7oJbfuTu"
      }
    },
    {
      "cell_type": "code",
      "source": [
        "np.set_printoptions(precision=4 , suppress=True)\n",
        "plt.figure(figsize=(10,8))\n",
        "%matplotlib inline \n",
        "plt.style.use('seaborn-whitegrid')"
      ],
      "metadata": {
        "id": "_9EHdNbIfyn_"
      },
      "execution_count": 2,
      "outputs": []
    },
    {
      "cell_type": "code",
      "source": [
        "df = pd.read_csv('/content/mtcars.csv')\n",
        "df.columns\n",
        "X = df.iloc[:,[1,3,4,6]].values\n",
        "Y = df.iloc[:,[9]].values #Target variable ( am column) that variable describe whether the car have an manual or automatic transmission"
      ],
      "metadata": {
        "id": "7h6atE6xzQJ_"
      },
      "execution_count": 3,
      "outputs": []
    },
    {
      "cell_type": "markdown",
      "source": [
        "###***Using Scipy to generate Dendograms*** \n",
        "we'll call the linkage function on dataset X to carries out the HC on our data"
      ],
      "metadata": {
        "id": "53vthGpj15U0"
      }
    },
    {
      "cell_type": "code",
      "source": [
        "Z = linkage(X,'ward')\n"
      ],
      "metadata": {
        "id": "Hfdf_yhu1TFY"
      },
      "execution_count": 4,
      "outputs": []
    },
    {
      "cell_type": "code",
      "source": [
        "dendrogram(Z,truncate_mode='lastp' ,p=12 ,leaf_rotation=45 , leaf_font_size=15 , show_contracted=True)\n",
        "plt.title('Truncated Hirtatchical Clustering')\n",
        "plt.xlabel('Cluster Size')\n",
        "plt.ylabel('Distance')\n",
        "\n",
        "#Set a line on our Y-Axis (Maximum distance between a point and its nearest neighbor)\n",
        "#so that we can count how many clusters to use in our Model\n",
        "plt.axhline(y=500)\n",
        "plt.axhline(y=150)\n",
        "plt.show()\n",
        "from matplotlib import rcParams\n",
        "rcParams['figure.figsize'] = 10,6  #To make it large\n"
      ],
      "metadata": {
        "colab": {
          "base_uri": "https://localhost:8080/",
          "height": 413
        },
        "id": "Muh3rQFx3NTC",
        "outputId": "298db6d1-032b-42d3-99b9-3828412766ca"
      },
      "execution_count": 6,
      "outputs": [
        {
          "output_type": "display_data",
          "data": {
            "text/plain": [
              "<Figure size 720x432 with 1 Axes>"
            ],
            "image/png": "[encoded data removed]"
          },
          "metadata": {}
        }
      ]
    },
    {
      "cell_type": "markdown",
      "source": [
        "###***Generating Hierarchical Clusters***\n",
        "we'll create a variable that represents the number of clusters k and set it on 2 clusters **K=2** .\n",
        "\n",
        "Then we need to instantiate an **Agglomerative Clustering Object** "
      ],
      "metadata": {
        "id": "eZnDG4PqfuGe"
      }
    },
    {
      "cell_type": "code",
      "source": [
        "k = 2\n",
        "\n",
        "hclustering = AgglomerativeClustering(n_clusters=k , affinity='euclidean' , linkage='ward')\n",
        "#Affinity parameter the distance metric as mayor of similarity (Euclidean , Manhattan ..)\n",
        "hclustering.fit(X)\n",
        "\n",
        "#We'll use our sklearn libary to Score our model\n",
        "#We'll pass on our target variable Y and the Predicted values that have generated\n",
        "#From our Hierarchical Clustering Model\n",
        "sn.accuracy_score(Y,hclustering.labels_)"
      ],
      "metadata": {
        "colab": {
          "base_uri": "https://localhost:8080/"
        },
        "id": "0uPmGDffdzCg",
        "outputId": "daae41b5-8a3c-4891-c9ca-7ccb0eac38bb"
      },
      "execution_count": 7,
      "outputs": [
        {
          "output_type": "execute_result",
          "data": {
            "text/plain": [
              "0.78125"
            ]
          },
          "metadata": {},
          "execution_count": 7
        }
      ]
    },
    {
      "cell_type": "markdown",
      "source": [
        "We're gonna deploy every different combination parameters that are possible with this particular dataset and see which produces the best model results"
      ],
      "metadata": {
        "id": "Z6Z53R4BggOP"
      }
    },
    {
      "cell_type": "code",
      "source": [
        "hclustering = AgglomerativeClustering(n_clusters=k , affinity='euclidean' , linkage='complete')\n",
        "\n",
        "hclustering.fit(X)\n",
        "sn.accuracy_score(Y,hclustering.labels_)"
      ],
      "metadata": {
        "colab": {
          "base_uri": "https://localhost:8080/"
        },
        "id": "lGVbahdWg7az",
        "outputId": "4aa17ecc-af50-45b0-a5b2-fe7cb58becec"
      },
      "execution_count": 8,
      "outputs": [
        {
          "output_type": "execute_result",
          "data": {
            "text/plain": [
              "0.4375"
            ]
          },
          "metadata": {},
          "execution_count": 8
        }
      ]
    },
    {
      "cell_type": "code",
      "source": [
        "hclustering = AgglomerativeClustering(n_clusters=k , affinity='euclidean' , linkage='average')\n",
        "\n",
        "hclustering.fit(X)\n",
        "sn.accuracy_score(Y,hclustering.labels_)"
      ],
      "metadata": {
        "colab": {
          "base_uri": "https://localhost:8080/"
        },
        "id": "9K5zDaC9hLv-",
        "outputId": "34f5db75-8e2b-4a24-fd61-a47996c76d9f"
      },
      "execution_count": 9,
      "outputs": [
        {
          "output_type": "execute_result",
          "data": {
            "text/plain": [
              "0.78125"
            ]
          },
          "metadata": {},
          "execution_count": 9
        }
      ]
    },
    {
      "cell_type": "code",
      "source": [
        "hclustering = AgglomerativeClustering(n_clusters=k , affinity='manhattan' , linkage='average')\n",
        "\n",
        "hclustering.fit(X)\n",
        "sn.accuracy_score(Y,hclustering.labels_)"
      ],
      "metadata": {
        "colab": {
          "base_uri": "https://localhost:8080/"
        },
        "id": "eWpk-3R5hV0h",
        "outputId": "460a3ac8-2845-4e3c-ca17-1dad64aa5ff6"
      },
      "execution_count": 10,
      "outputs": [
        {
          "output_type": "execute_result",
          "data": {
            "text/plain": [
              "0.71875"
            ]
          },
          "metadata": {},
          "execution_count": 10
        }
      ]
    },
    {
      "cell_type": "markdown",
      "source": [
        "the last combination has the highest accuracy score with 0.71875 "
      ],
      "metadata": {
        "id": "K_RZsb0phftg"
      }
    }
  ]
}